{
 "cells": [
  {
   "cell_type": "code",
   "execution_count": 1,
   "metadata": {},
   "outputs": [
    {
     "name": "stdout",
     "output_type": "stream",
     "text": [
      "enter: sameer\n",
      "enter: 1234\n",
      "%7+33&\n"
     ]
    }
   ],
   "source": [
    "word= input(\"enter: \")\n",
    "key = input(\"enter: \")\n",
    "#key2 = cipher.enc(key)\n",
    "#print key2\n",
    "\"\"\"*********************encryption***************\"\"\"\n",
    "lst = []\n",
    "for x in word:\n",
    "    A = 93 - (ord(str(x)) + int(key))\n",
    "    while A < (-93):\n",
    "        A = 126 + A\n",
    "    A += 33 \n",
    "    if A >= 0:\n",
    "        lst.append(chr(int(A)))\n",
    "    elif A < 0:\n",
    "        lst.append(chr(-(int(A))))\n",
    "prin = \"\".join(lst)\n",
    "print (prin)\n",
    "\n"
   ]
  },
  {
   "cell_type": "code",
   "execution_count": null,
   "metadata": {},
   "outputs": [],
   "source": []
  }
 ],
 "metadata": {
  "kernelspec": {
   "display_name": "Python 3",
   "language": "python",
   "name": "python3"
  },
  "language_info": {
   "codemirror_mode": {
    "name": "ipython",
    "version": 3
   },
   "file_extension": ".py",
   "mimetype": "text/x-python",
   "name": "python",
   "nbconvert_exporter": "python",
   "pygments_lexer": "ipython3",
   "version": "3.7.1"
  }
 },
 "nbformat": 4,
 "nbformat_minor": 2
}
