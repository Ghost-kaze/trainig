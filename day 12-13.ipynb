{
 "cells": [
  {
   "cell_type": "code",
   "execution_count": 1,
   "metadata": {},
   "outputs": [],
   "source": [
    "#simple linear regression: "
   ]
  },
  {
   "cell_type": "code",
   "execution_count": 2,
   "metadata": {},
   "outputs": [],
   "source": [
    "house_csv = '.\\\\Machine-Learning-Course\\\\Part 2 - Regression\\\\Section 4 - Simple Linear Regression\\\\data\\\\house_data.csv'\n",
    "salary_csv = '.\\\\Machine-Learning-Course\\\\Part 2 - Regression\\\\Section 4 - Simple Linear Regression\\\\data\\\\Salary_Data.csv'\n",
    "house_area_price = '.\\\\Machine-Learning-Course\\\\Part 2 - Regression\\\\Section 4 - Simple Linear Regression\\\\data\\\\house_area_price.csv'"
   ]
  },
  {
   "cell_type": "code",
   "execution_count": 3,
   "metadata": {},
   "outputs": [],
   "source": [
    "%matplotlib inline\n",
    "from pandas import *\n",
    "from numpy import *\n",
    "import matplotlib.pyplot as p"
   ]
  },
  {
   "cell_type": "code",
   "execution_count": 6,
   "metadata": {},
   "outputs": [
    {
     "data": {
      "text/html": [
       "<div>\n",
       "<style scoped>\n",
       "    .dataframe tbody tr th:only-of-type {\n",
       "        vertical-align: middle;\n",
       "    }\n",
       "\n",
       "    .dataframe tbody tr th {\n",
       "        vertical-align: top;\n",
       "    }\n",
       "\n",
       "    .dataframe thead th {\n",
       "        text-align: right;\n",
       "    }\n",
       "</style>\n",
       "<table border=\"1\" class=\"dataframe\">\n",
       "  <thead>\n",
       "    <tr style=\"text-align: right;\">\n",
       "      <th></th>\n",
       "      <th>area</th>\n",
       "      <th>price</th>\n",
       "    </tr>\n",
       "  </thead>\n",
       "  <tbody>\n",
       "    <tr>\n",
       "      <th>0</th>\n",
       "      <td>2360</td>\n",
       "      <td>221900</td>\n",
       "    </tr>\n",
       "    <tr>\n",
       "      <th>1</th>\n",
       "      <td>4740</td>\n",
       "      <td>538000</td>\n",
       "    </tr>\n",
       "    <tr>\n",
       "      <th>2</th>\n",
       "      <td>1540</td>\n",
       "      <td>180000</td>\n",
       "    </tr>\n",
       "    <tr>\n",
       "      <th>3</th>\n",
       "      <td>3010</td>\n",
       "      <td>604000</td>\n",
       "    </tr>\n",
       "    <tr>\n",
       "      <th>4</th>\n",
       "      <td>3360</td>\n",
       "      <td>510000</td>\n",
       "    </tr>\n",
       "    <tr>\n",
       "      <th>5</th>\n",
       "      <td>9310</td>\n",
       "      <td>1230000</td>\n",
       "    </tr>\n",
       "    <tr>\n",
       "      <th>6</th>\n",
       "      <td>3430</td>\n",
       "      <td>257500</td>\n",
       "    </tr>\n",
       "    <tr>\n",
       "      <th>7</th>\n",
       "      <td>2120</td>\n",
       "      <td>291850</td>\n",
       "    </tr>\n",
       "    <tr>\n",
       "      <th>8</th>\n",
       "      <td>2830</td>\n",
       "      <td>229500</td>\n",
       "    </tr>\n",
       "    <tr>\n",
       "      <th>9</th>\n",
       "      <td>3780</td>\n",
       "      <td>323000</td>\n",
       "    </tr>\n",
       "    <tr>\n",
       "      <th>10</th>\n",
       "      <td>5420</td>\n",
       "      <td>662500</td>\n",
       "    </tr>\n",
       "    <tr>\n",
       "      <th>11</th>\n",
       "      <td>2020</td>\n",
       "      <td>468000</td>\n",
       "    </tr>\n",
       "    <tr>\n",
       "      <th>12</th>\n",
       "      <td>2860</td>\n",
       "      <td>310000</td>\n",
       "    </tr>\n",
       "    <tr>\n",
       "      <th>13</th>\n",
       "      <td>2740</td>\n",
       "      <td>400000</td>\n",
       "    </tr>\n",
       "    <tr>\n",
       "      <th>14</th>\n",
       "      <td>3620</td>\n",
       "      <td>530000</td>\n",
       "    </tr>\n",
       "    <tr>\n",
       "      <th>15</th>\n",
       "      <td>4930</td>\n",
       "      <td>650000</td>\n",
       "    </tr>\n",
       "    <tr>\n",
       "      <th>16</th>\n",
       "      <td>3780</td>\n",
       "      <td>395000</td>\n",
       "    </tr>\n",
       "    <tr>\n",
       "      <th>17</th>\n",
       "      <td>3200</td>\n",
       "      <td>485000</td>\n",
       "    </tr>\n",
       "    <tr>\n",
       "      <th>18</th>\n",
       "      <td>2400</td>\n",
       "      <td>189000</td>\n",
       "    </tr>\n",
       "    <tr>\n",
       "      <th>19</th>\n",
       "      <td>2500</td>\n",
       "      <td>230000</td>\n",
       "    </tr>\n",
       "  </tbody>\n",
       "</table>\n",
       "</div>"
      ],
      "text/plain": [
       "    area    price\n",
       "0   2360   221900\n",
       "1   4740   538000\n",
       "2   1540   180000\n",
       "3   3010   604000\n",
       "4   3360   510000\n",
       "5   9310  1230000\n",
       "6   3430   257500\n",
       "7   2120   291850\n",
       "8   2830   229500\n",
       "9   3780   323000\n",
       "10  5420   662500\n",
       "11  2020   468000\n",
       "12  2860   310000\n",
       "13  2740   400000\n",
       "14  3620   530000\n",
       "15  4930   650000\n",
       "16  3780   395000\n",
       "17  3200   485000\n",
       "18  2400   189000\n",
       "19  2500   230000"
      ]
     },
     "execution_count": 6,
     "metadata": {},
     "output_type": "execute_result"
    }
   ],
   "source": [
    "salary = read_csv(house_area_price)\n",
    "house = read_csv(salary_csv)\n",
    "salary.head(20)"
   ]
  },
  {
   "cell_type": "code",
   "execution_count": 8,
   "metadata": {},
   "outputs": [
    {
     "data": {
      "text/plain": [
       "Text(0, 0.5, 'Salary')"
      ]
     },
     "execution_count": 8,
     "metadata": {},
     "output_type": "execute_result"
    },
    {
     "data": {
      "image/png": "[encoded data removed]",
      "text/plain": [
       "<Figure size 432x288 with 1 Axes>"
      ]
     },
     "metadata": {
      "needs_background": "light"
     },
     "output_type": "display_data"
    }
   ],
   "source": [
    "m=salary.iloc[:,:1]\n",
    "n=salary.iloc[:,1:2]\n",
    "\"\"\"l=[]\n",
    "m = []\n",
    "for d in x:\n",
    "    l.append(d[0])0\n",
    "for s in y:\n",
    "    m.append(s[0])\"\"\"\n",
    "p.scatter(m,n)\n",
    "#p.plot(m,n,'g--')    \n",
    "p.title('Estimation of salary')\n",
    "p.xlabel('years of experience')\n",
    "p.ylabel('Salary')\n",
    "\n"
   ]
  },
  {
   "cell_type": "code",
   "execution_count": 5,
   "metadata": {},
   "outputs": [
    {
     "data": {
      "text/plain": [
       "numpy.ndarray"
      ]
     },
     "execution_count": 5,
     "metadata": {},
     "output_type": "execute_result"
    },
    {
     "data": {
      "image/png": "[encoded data removed]",
      "text/plain": [
       "<Figure size 432x288 with 1 Axes>"
      ]
     },
     "metadata": {
      "needs_background": "light"
     },
     "output_type": "display_data"
    }
   ],
   "source": [
    "x = linspace(0,5,20)\n",
    "y = x**2 +4\n",
    "p.plot(x,y)\n",
    "type(x)"
   ]
  },
  {
   "cell_type": "code",
   "execution_count": 6,
   "metadata": {},
   "outputs": [
    {
     "name": "stdout",
     "output_type": "stream",
     "text": [
      "[ 0  1  2  3  4  5  6  7  8  9 10 11 12 13 14 15 16 17 18 19]\n"
     ]
    },
    {
     "data": {
      "text/plain": [
       "list"
      ]
     },
     "execution_count": 6,
     "metadata": {},
     "output_type": "execute_result"
    },
    {
     "data": {
      "image/png": "[encoded data removed]",
      "text/plain": [
       "<Figure size 432x288 with 1 Axes>"
      ]
     },
     "metadata": {
      "needs_background": "light"
     },
     "output_type": "display_data"
    }
   ],
   "source": [
    "x = array([x for x in range(20)])\n",
    "y = random.randint(0,40,20)\n",
    "z = list(zip(x,y))\n",
    "print(x)\n",
    "p.plot(x,y)\n",
    "type(z)"
   ]
  },
  {
   "cell_type": "code",
   "execution_count": 7,
   "metadata": {},
   "outputs": [
    {
     "data": {
      "text/plain": [
       "([array([1., 0., 1., 0., 0., 0., 0., 0., 0., 0.]),\n",
       "  array([2., 0., 0., 0., 0., 0., 0., 0., 0., 0.]),\n",
       "  array([1., 0., 0., 1., 0., 0., 0., 0., 0., 0.]),\n",
       "  array([1., 1., 0., 0., 0., 0., 0., 0., 0., 0.]),\n",
       "  array([0., 1., 0., 0., 0., 0., 1., 0., 0., 0.]),\n",
       "  array([0., 1., 0., 0., 0., 0., 0., 0., 0., 1.]),\n",
       "  array([0., 1., 0., 0., 0., 0., 1., 0., 0., 0.]),\n",
       "  array([0., 1., 0., 0., 0., 1., 0., 0., 0., 0.]),\n",
       "  array([0., 0., 1., 0., 0., 0., 1., 0., 0., 0.]),\n",
       "  array([0., 0., 1., 1., 0., 0., 0., 0., 0., 0.]),\n",
       "  array([0., 0., 1., 0., 0., 0., 1., 0., 0., 0.]),\n",
       "  array([0., 1., 0., 1., 0., 0., 0., 0., 0., 0.]),\n",
       "  array([0., 0., 0., 2., 0., 0., 0., 0., 0., 0.]),\n",
       "  array([0., 0., 0., 2., 0., 0., 0., 0., 0., 0.]),\n",
       "  array([1., 0., 0., 1., 0., 0., 0., 0., 0., 0.]),\n",
       "  array([0., 0., 0., 0., 1., 0., 1., 0., 0., 0.]),\n",
       "  array([0., 0., 0., 1., 1., 0., 0., 0., 0., 0.]),\n",
       "  array([0., 0., 0., 1., 1., 0., 0., 0., 0., 0.]),\n",
       "  array([0., 0., 0., 1., 0., 1., 0., 0., 0., 0.]),\n",
       "  array([0., 0., 1., 0., 0., 1., 0., 0., 0., 0.])],\n",
       " array([ 0. ,  3.6,  7.2, 10.8, 14.4, 18. , 21.6, 25.2, 28.8, 32.4, 36. ]),\n",
       " <a list of 20 Lists of Patches objects>)"
      ]
     },
     "execution_count": 7,
     "metadata": {},
     "output_type": "execute_result"
    },
    {
     "data": {
      "image/png": "[encoded data removed]",
      "text/plain": [
       "<Figure size 432x288 with 1 Axes>"
      ]
     },
     "metadata": {
      "needs_background": "light"
     },
     "output_type": "display_data"
    }
   ],
   "source": [
    "p.hist(z)"
   ]
  },
  {
   "cell_type": "code",
   "execution_count": 8,
   "metadata": {},
   "outputs": [
    {
     "name": "stdout",
     "output_type": "stream",
     "text": [
      "[ 0  1  2  4  5  6  6  7  8  8 12 12 13 13 15 15 16 17 18 18]\n"
     ]
    },
    {
     "data": {
      "text/plain": [
       "(array([17, 15,  5,  7, 15, 18, 13,  6,  4,  0, 12,  2, 16,  8, 12, 13,  1,\n",
       "         6,  8, 18]),\n",
       " [0, 1, 2, 3, 4, 5, 6, 7, 8, 9, 10, 11, 12, 13, 14, 15, 16, 17, 18, 19])"
      ]
     },
     "execution_count": 8,
     "metadata": {},
     "output_type": "execute_result"
    },
    {
     "data": {
      "image/png": "[encoded data removed]",
      "text/plain": [
       "<Figure size 432x288 with 1 Axes>"
      ]
     },
     "metadata": {
      "needs_background": "light"
     },
     "output_type": "display_data"
    }
   ],
   "source": [
    "z = random.randint(0,20,20)\n",
    "y = [x for x in range(20)]\n",
    "p.hist(z)\n",
    "\"\"\"p.scatter(y,z)\n",
    "p.plot(y,z,'g--')\"\"\"\n",
    "print(sort(z))\n",
    "z,y"
   ]
  },
  {
   "cell_type": "code",
   "execution_count": 28,
   "metadata": {},
   "outputs": [],
   "source": [
    "from sklearn.model_selection import train_test_split"
   ]
  },
  {
   "cell_type": "code",
   "execution_count": 124,
   "metadata": {},
   "outputs": [],
   "source": [
    "X_train, X_test, Y_train, Y_test = train_test_split(m, n, test_size=1/50)"
   ]
  },
  {
   "cell_type": "code",
   "execution_count": 125,
   "metadata": {},
   "outputs": [],
   "source": [
    "from sklearn.linear_model import LinearRegression"
   ]
  },
  {
   "cell_type": "code",
   "execution_count": 126,
   "metadata": {},
   "outputs": [],
   "source": [
    "mod = LinearRegression()"
   ]
  },
  {
   "cell_type": "code",
   "execution_count": 127,
   "metadata": {},
   "outputs": [
    {
     "data": {
      "text/plain": [
       "LinearRegression(copy_X=True, fit_intercept=True, n_jobs=None,\n",
       "         normalize=False)"
      ]
     },
     "execution_count": 127,
     "metadata": {},
     "output_type": "execute_result"
    }
   ],
   "source": [
    "mod.fit(X_train, Y_train)"
   ]
  },
  {
   "cell_type": "code",
   "execution_count": 128,
   "metadata": {},
   "outputs": [
    {
     "data": {
      "text/plain": [
       "0.45978770526498913"
      ]
     },
     "execution_count": 128,
     "metadata": {},
     "output_type": "execute_result"
    }
   ],
   "source": [
    "mod.score(X_train, Y_train)"
   ]
  },
  {
   "cell_type": "code",
   "execution_count": 129,
   "metadata": {},
   "outputs": [
    {
     "data": {
      "text/plain": [
       "array([[   3430.        ,  245000.        ,  475593.10070021],\n",
       "       [   4120.        , 1300000.        ,  577279.07139299],\n",
       "       [   2720.        ,  507000.        ,  370959.71056705],\n",
       "       ...,\n",
       "       [   6380.        ,  864000.        ,  910337.46815487],\n",
       "       [   6500.        ,  699188.        ,  928021.9847971 ],\n",
       "       [   2740.        ,  375000.        ,  373907.13000742]])"
      ]
     },
     "execution_count": 129,
     "metadata": {},
     "output_type": "execute_result"
    }
   ],
   "source": [
    "y_pred = mod.predict(X_test)\n",
    "\n",
    "np.concatenate((X_test,Y_test,y_pred), axis=1)"
   ]
  },
  {
   "cell_type": "code",
   "execution_count": 130,
   "metadata": {},
   "outputs": [],
   "source": [
    "df = DataFrame(data=concatenate((X_test,Y_test,y_pred), axis=1),columns=[\"exp\",\"real price\",\"expec price\"])"
   ]
  },
  {
   "cell_type": "code",
   "execution_count": 131,
   "metadata": {
    "scrolled": true
   },
   "outputs": [
    {
     "data": {
      "text/html": [
       "<div>\n",
       "<style scoped>\n",
       "    .dataframe tbody tr th:only-of-type {\n",
       "        vertical-align: middle;\n",
       "    }\n",
       "\n",
       "    .dataframe tbody tr th {\n",
       "        vertical-align: top;\n",
       "    }\n",
       "\n",
       "    .dataframe thead th {\n",
       "        text-align: right;\n",
       "    }\n",
       "</style>\n",
       "<table border=\"1\" class=\"dataframe\">\n",
       "  <thead>\n",
       "    <tr style=\"text-align: right;\">\n",
       "      <th></th>\n",
       "      <th>exp</th>\n",
       "      <th>real price</th>\n",
       "      <th>expec price</th>\n",
       "    </tr>\n",
       "  </thead>\n",
       "  <tbody>\n",
       "    <tr>\n",
       "      <th>0</th>\n",
       "      <td>3430.0</td>\n",
       "      <td>245000.0</td>\n",
       "      <td>475593.100700</td>\n",
       "    </tr>\n",
       "    <tr>\n",
       "      <th>1</th>\n",
       "      <td>4120.0</td>\n",
       "      <td>1300000.0</td>\n",
       "      <td>577279.071393</td>\n",
       "    </tr>\n",
       "    <tr>\n",
       "      <th>2</th>\n",
       "      <td>2720.0</td>\n",
       "      <td>507000.0</td>\n",
       "      <td>370959.710567</td>\n",
       "    </tr>\n",
       "    <tr>\n",
       "      <th>3</th>\n",
       "      <td>2920.0</td>\n",
       "      <td>175000.0</td>\n",
       "      <td>400433.904971</td>\n",
       "    </tr>\n",
       "    <tr>\n",
       "      <th>4</th>\n",
       "      <td>1580.0</td>\n",
       "      <td>169500.0</td>\n",
       "      <td>202956.802466</td>\n",
       "    </tr>\n",
       "    <tr>\n",
       "      <th>5</th>\n",
       "      <td>4060.0</td>\n",
       "      <td>826000.0</td>\n",
       "      <td>568436.813072</td>\n",
       "    </tr>\n",
       "    <tr>\n",
       "      <th>6</th>\n",
       "      <td>6520.0</td>\n",
       "      <td>850000.0</td>\n",
       "      <td>930969.404237</td>\n",
       "    </tr>\n",
       "    <tr>\n",
       "      <th>7</th>\n",
       "      <td>3340.0</td>\n",
       "      <td>310000.0</td>\n",
       "      <td>462329.713219</td>\n",
       "    </tr>\n",
       "    <tr>\n",
       "      <th>8</th>\n",
       "      <td>2060.0</td>\n",
       "      <td>332500.0</td>\n",
       "      <td>273694.869035</td>\n",
       "    </tr>\n",
       "    <tr>\n",
       "      <th>9</th>\n",
       "      <td>3860.0</td>\n",
       "      <td>509000.0</td>\n",
       "      <td>538962.618668</td>\n",
       "    </tr>\n",
       "  </tbody>\n",
       "</table>\n",
       "</div>"
      ],
      "text/plain": [
       "      exp  real price    expec price\n",
       "0  3430.0    245000.0  475593.100700\n",
       "1  4120.0   1300000.0  577279.071393\n",
       "2  2720.0    507000.0  370959.710567\n",
       "3  2920.0    175000.0  400433.904971\n",
       "4  1580.0    169500.0  202956.802466\n",
       "5  4060.0    826000.0  568436.813072\n",
       "6  6520.0    850000.0  930969.404237\n",
       "7  3340.0    310000.0  462329.713219\n",
       "8  2060.0    332500.0  273694.869035\n",
       "9  3860.0    509000.0  538962.618668"
      ]
     },
     "execution_count": 131,
     "metadata": {},
     "output_type": "execute_result"
    }
   ],
   "source": [
    "df.head(10)"
   ]
  },
  {
   "cell_type": "code",
   "execution_count": 132,
   "metadata": {},
   "outputs": [],
   "source": [
    "x = list(zip(X_test,Y_test,y_pred))"
   ]
  },
  {
   "cell_type": "code",
   "execution_count": 133,
   "metadata": {},
   "outputs": [
    {
     "name": "stdout",
     "output_type": "stream",
     "text": [
      "[('area', 'price', array([475593.10070021]))]\n"
     ]
    }
   ],
   "source": [
    "print(x)"
   ]
  },
  {
   "cell_type": "code",
   "execution_count": 134,
   "metadata": {},
   "outputs": [],
   "source": [
    "data=concatenate((X_test,Y_test,y_pred), axis=1)"
   ]
  },
  {
   "cell_type": "code",
   "execution_count": 135,
   "metadata": {},
   "outputs": [
    {
     "name": "stdout",
     "output_type": "stream",
     "text": [
      "[[   3430.          245000.          475593.10070021]\n",
      " [   4120.         1300000.          577279.07139299]\n",
      " [   2720.          507000.          370959.71056705]\n",
      " ...\n",
      " [   6380.          864000.          910337.46815487]\n",
      " [   6500.          699188.          928021.9847971 ]\n",
      " [   2740.          375000.          373907.13000742]]\n"
     ]
    }
   ],
   "source": [
    "print(data)"
   ]
  },
  {
   "cell_type": "code",
   "execution_count": 136,
   "metadata": {},
   "outputs": [
    {
     "data": {
      "text/plain": [
       "{'fit_intercept': True,\n",
       " 'normalize': False,\n",
       " 'copy_X': True,\n",
       " 'n_jobs': None,\n",
       " 'coef_': array([[147.37097202]]),\n",
       " '_residues': array([1.54828942e+15]),\n",
       " 'rank_': 1,\n",
       " 'singular_': array([246326.17886024]),\n",
       " 'intercept_': array([-29889.33332335])}"
      ]
     },
     "execution_count": 136,
     "metadata": {},
     "output_type": "execute_result"
    }
   ],
   "source": [
    "mod.__dict__"
   ]
  },
  {
   "cell_type": "code",
   "execution_count": 137,
   "metadata": {},
   "outputs": [
    {
     "data": {
      "text/plain": [
       "Text(0, 0.5, 'Salary')"
      ]
     },
     "execution_count": 137,
     "metadata": {},
     "output_type": "execute_result"
    },
    {
     "data": {
      "image/png": "[encoded data removed]",
      "text/plain": [
       "<Figure size 432x288 with 1 Axes>"
      ]
     },
     "metadata": {
      "needs_background": "light"
     },
     "output_type": "display_data"
    }
   ],
   "source": [
    "m=salary.iloc[:,:1]\n",
    "n=salary.iloc[:,1:2]\n",
    "\"\"\"l=[]\n",
    "m = []\n",
    "for d in x:\n",
    "    l.append(d[0])0\n",
    "for s in y:\n",
    "    m.append(s[0])\"\"\"\n",
    "p.scatter(X_train,Y_train)\n",
    "p.plot(X_train,mod.predict(X_train),'r')    \n",
    "p.title('Estimation of salary')\n",
    "p.xlabel('years of experience')\n",
    "p.ylabel('Salary')"
   ]
  },
  {
   "cell_type": "code",
   "execution_count": 140,
   "metadata": {},
   "outputs": [
    {
     "data": {
      "text/plain": [
       "Text(0, 0.5, 'Salary')"
      ]
     },
     "execution_count": 140,
     "metadata": {},
     "output_type": "execute_result"
    },
    {
     "data": {
      "image/png": "[encoded data removed]",
      "text/plain": [
       "<Figure size 432x288 with 1 Axes>"
      ]
     },
     "metadata": {
      "needs_background": "light"
     },
     "output_type": "display_data"
    }
   ],
   "source": [
    "p.scatter(X_test,Y_test)\n",
    "#p.plot(X_train,Y_train,'r.')\n",
    "p.plot(X_test,mod.predict(X_test),'b')  \n",
    "#p.plot(X_train,mod.predict(X_train),'g.')\n",
    "p.title('Estimation of salary')\n",
    "p.xlabel('years of experience')\n",
    "p.ylabel('Salary')"
   ]
  },
  {
   "cell_type": "code",
   "execution_count": 139,
   "metadata": {},
   "outputs": [
    {
     "data": {
      "text/plain": [
       "433"
      ]
     },
     "execution_count": 139,
     "metadata": {},
     "output_type": "execute_result"
    }
   ],
   "source": [
    "len(X_test)"
   ]
  },
  {
   "cell_type": "code",
   "execution_count": null,
   "metadata": {},
   "outputs": [],
   "source": []
  },
  {
   "cell_type": "code",
   "execution_count": null,
   "metadata": {},
   "outputs": [],
   "source": []
  },
  {
   "cell_type": "code",
   "execution_count": null,
   "metadata": {},
   "outputs": [],
   "source": []
  }
 ],
 "metadata": {
  "kernelspec": {
   "display_name": "Python 3",
   "language": "python",
   "name": "python3"
  },
  "language_info": {
   "codemirror_mode": {
    "name": "ipython",
    "version": 3
   },
   "file_extension": ".py",
   "mimetype": "text/x-python",
   "name": "python",
   "nbconvert_exporter": "python",
   "pygments_lexer": "ipython3",
   "version": "3.7.1"
  }
 },
 "nbformat": 4,
 "nbformat_minor": 2
}
