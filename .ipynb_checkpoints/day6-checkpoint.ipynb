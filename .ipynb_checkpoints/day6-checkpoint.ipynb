{
 "cells": [
  {
   "cell_type": "code",
   "execution_count": 115,
   "metadata": {},
   "outputs": [],
   "source": [
    "#file handling : read , write , append, delete*.\n",
    "#r: read(default)\n",
    "#w:write\n",
    "#a:append\n",
    "#c:create\n",
    "#t:text\n",
    "#b:binary\n",
    "#var_name=open().... syntax: open('address','type')\n",
    "#var_name.tell(),var_name.close(),var_name.readline(/s)(),\n",
    "# with (keyword)...\n",
    "#exception/error handling\n",
    "#syntax:-\n",
    "\n",
    "#try:\n",
    "#    stmt\n",
    "#except:\n",
    "#    stmt\n",
    "#finally:\n",
    "#    stmt\n",
    "#sys.exc_info()[] {import sys library}\n",
    "#raise error_name('stmt u want to show')"
   ]
  },
  {
   "cell_type": "code",
   "execution_count": 127,
   "metadata": {},
   "outputs": [],
   "source": [
    "f = open('test.txt','r')"
   ]
  },
  {
   "cell_type": "code",
   "execution_count": 28,
   "metadata": {},
   "outputs": [
    {
     "data": {
      "text/plain": [
       "6"
      ]
     },
     "execution_count": 28,
     "metadata": {},
     "output_type": "execute_result"
    }
   ],
   "source": [
    "x = 'sda'\n",
    "f.write(x)\n",
    "y = \"dasdas\"\n",
    "f.write(y)"
   ]
  },
  {
   "cell_type": "code",
   "execution_count": 86,
   "metadata": {},
   "outputs": [],
   "source": [
    "x = f.readlines()"
   ]
  },
  {
   "cell_type": "code",
   "execution_count": 87,
   "metadata": {},
   "outputs": [
    {
     "name": "stdout",
     "output_type": "stream",
     "text": [
      "aslkfnal\n",
      "\n",
      "a\n",
      "\n",
      "flnakskflna\n",
      "\n",
      "f\n",
      "\n",
      "ansfka\n",
      "\n",
      "fasffasknlkfan\n",
      "\n",
      "sfnaskdndlasknflans\n",
      "\n",
      "flasnkfaklnsfkaksnf\n",
      "\n",
      "aslfnkasnkfnlkafn\n",
      "\n",
      "afn'aknfskjwoifqfalxzco\n",
      "\n",
      "6546434\n",
      "\n",
      "558436\n"
     ]
    }
   ],
   "source": [
    "f.tell()\n",
    "for n in x:\n",
    "    print(\"\".join(n))"
   ]
  },
  {
   "cell_type": "code",
   "execution_count": 93,
   "metadata": {},
   "outputs": [
    {
     "data": {
      "text/plain": [
       "'a\\n'"
      ]
     },
     "execution_count": 93,
     "metadata": {},
     "output_type": "execute_result"
    }
   ],
   "source": [
    "f.readline()"
   ]
  },
  {
   "cell_type": "code",
   "execution_count": 135,
   "metadata": {},
   "outputs": [],
   "source": [
    "f.close()"
   ]
  },
  {
   "cell_type": "code",
   "execution_count": 120,
   "metadata": {},
   "outputs": [
    {
     "ename": "ValueError",
     "evalue": "I/O operation on closed file.",
     "output_type": "error",
     "traceback": [
      "\u001b[1;31m---------------------------------------------------------------------------\u001b[0m",
      "\u001b[1;31mValueError\u001b[0m                                Traceback (most recent call last)",
      "\u001b[1;32m<ipython-input-120-7e1d2e12b839>\u001b[0m in \u001b[0;36m<module>\u001b[1;34m\u001b[0m\n\u001b[1;32m----> 1\u001b[1;33m \u001b[0mf\u001b[0m\u001b[1;33m.\u001b[0m\u001b[0mreadline\u001b[0m\u001b[1;33m(\u001b[0m\u001b[1;33m)\u001b[0m\u001b[1;33m\u001b[0m\u001b[1;33m\u001b[0m\u001b[0m\n\u001b[0m",
      "\u001b[1;31mValueError\u001b[0m: I/O operation on closed file."
     ]
    }
   ],
   "source": [
    "f.readline()"
   ]
  },
  {
   "cell_type": "code",
   "execution_count": 110,
   "metadata": {},
   "outputs": [
    {
     "data": {
      "text/plain": [
       "['aslkfnal\\n',\n",
       " 'a\\n',\n",
       " 'flnakskflna\\n',\n",
       " 'f\\n',\n",
       " 'ansfka\\n',\n",
       " 'fasffasknlkfan\\n',\n",
       " 'sfnaskdndlasknflans\\n',\n",
       " 'flasnkfaklnsfkaksnf\\n',\n",
       " 'aslfnkasnkfnlkafn\\n',\n",
       " \"afn'aknfskjwoifqfalxzco\\n\",\n",
       " '6546434\\n',\n",
       " '558436']"
      ]
     },
     "execution_count": 110,
     "metadata": {},
     "output_type": "execute_result"
    }
   ],
   "source": [
    "with open('test.txt','r') as f:\n",
    "    x = f.readlines()\n",
    "x"
   ]
  },
  {
   "cell_type": "code",
   "execution_count": 111,
   "metadata": {},
   "outputs": [
    {
     "ename": "ValueError",
     "evalue": "I/O operation on closed file.",
     "output_type": "error",
     "traceback": [
      "\u001b[1;31m---------------------------------------------------------------------------\u001b[0m",
      "\u001b[1;31mValueError\u001b[0m                                Traceback (most recent call last)",
      "\u001b[1;32m<ipython-input-111-7e1d2e12b839>\u001b[0m in \u001b[0;36m<module>\u001b[1;34m\u001b[0m\n\u001b[1;32m----> 1\u001b[1;33m \u001b[0mf\u001b[0m\u001b[1;33m.\u001b[0m\u001b[0mreadline\u001b[0m\u001b[1;33m(\u001b[0m\u001b[1;33m)\u001b[0m\u001b[1;33m\u001b[0m\u001b[1;33m\u001b[0m\u001b[0m\n\u001b[0m",
      "\u001b[1;31mValueError\u001b[0m: I/O operation on closed file."
     ]
    }
   ],
   "source": [
    "f.readline()"
   ]
  },
  {
   "cell_type": "code",
   "execution_count": 112,
   "metadata": {},
   "outputs": [],
   "source": [
    "\n",
    "try:\n",
    "    #probably an error\n",
    "    pass\n",
    "except :\n",
    "    #any error to render on the screen\n",
    "    pass\n",
    "finally:\n",
    "    #will happen at all cost\n",
    "    pass\n"
   ]
  },
  {
   "cell_type": "code",
   "execution_count": 114,
   "metadata": {},
   "outputs": [],
   "source": [
    "try:\n",
    "    #probably an error\n",
    "    pass\n",
    "except ValueError:\n",
    "    #ValueError error to render on the screen\n",
    "    pass\n",
    "except (multiple, errors, u, want):\n",
    "    #multiple errors to render on the screen\n",
    "    pass\n",
    "except :\n",
    "    #all other errors to render on the screen\n",
    "    pass\n",
    "finally:\n",
    "    #will happen at all cost\n",
    "    pass\n"
   ]
  },
  {
   "cell_type": "code",
   "execution_count": 225,
   "metadata": {},
   "outputs": [
    {
     "name": "stdout",
     "output_type": "stream",
     "text": [
      "['1', '2']\n",
      "3\n",
      "['3', '4']\n",
      "7\n",
      "['5', '6']\n",
      "11\n",
      "['7', '8']\n",
      "15\n"
     ]
    }
   ],
   "source": [
    "f = open('test2.txt','r')\n",
    "#l = f.readlines()\n",
    "#l\n",
    "l=f.read()\n",
    "x = l.split('\\n')\n",
    "x\n",
    "f.close()\n",
    "f.open('test3.txt','w')\n",
    "c=0\n",
    "for n in x:\n",
    "    lis = n.split(',')\n",
    "    print(lis)\n",
    "    for x in lis:\n",
    "        c += int(x)\n",
    "    g = lis[0]+','+lis[1]+','+c\n",
    "    \n",
    "    c=0"
   ]
  },
  {
   "cell_type": "code",
   "execution_count": 218,
   "metadata": {},
   "outputs": [],
   "source": [
    "\n",
    "f.close()"
   ]
  },
  {
   "cell_type": "code",
   "execution_count": null,
   "metadata": {},
   "outputs": [],
   "source": []
  }
 ],
 "metadata": {
  "kernelspec": {
   "display_name": "Python 3",
   "language": "python",
   "name": "python3"
  },
  "language_info": {
   "codemirror_mode": {
    "name": "ipython",
    "version": 3
   },
   "file_extension": ".py",
   "mimetype": "text/x-python",
   "name": "python",
   "nbconvert_exporter": "python",
   "pygments_lexer": "ipython3",
   "version": "3.7.1"
  }
 },
 "nbformat": 4,
 "nbformat_minor": 2
}
